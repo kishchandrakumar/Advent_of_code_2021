{
 "cells": [
  {
   "cell_type": "code",
   "execution_count": 2,
   "metadata": {},
   "outputs": [
    {
     "data": {
      "text/plain": [
       "['[({(<(())[]>[[{[]{<()<>>',\n",
       " '[(()[<>])]({[<{<<[]>>(',\n",
       " '{([(<{}[<>[]}>{[]{[(<()>',\n",
       " '(((({<>}<{<{<>}{[]{[]{}',\n",
       " '[[<[([]))<([[{}[[()]]]',\n",
       " '[{[{({}]{}}([{[{{{}}([]',\n",
       " '{<[[]]>}<{[{[{[]{()[[[]',\n",
       " '[<(<(<(<{}))><([]([]()',\n",
       " '<{([([[(<>()){}]>(<<{{',\n",
       " '<{([{{}}[<[[[<>{}]]]>[]]']"
      ]
     },
     "execution_count": 2,
     "metadata": {},
     "output_type": "execute_result"
    }
   ],
   "source": [
    "inp = '''[({(<(())[]>[[{[]{<()<>>\n",
    "[(()[<>])]({[<{<<[]>>(\n",
    "{([(<{}[<>[]}>{[]{[(<()>\n",
    "(((({<>}<{<{<>}{[]{[]{}\n",
    "[[<[([]))<([[{}[[()]]]\n",
    "[{[{({}]{}}([{[{{{}}([]\n",
    "{<[[]]>}<{[{[{[]{()[[[]\n",
    "[<(<(<(<{}))><([]([]()\n",
    "<{([([[(<>()){}]>(<<{{\n",
    "<{([{{}}[<[[[<>{}]]]>[]]'''\n",
    "\n",
    "inp.split('\\n')"
   ]
  },
  {
   "cell_type": "code",
   "execution_count": 3,
   "metadata": {},
   "outputs": [],
   "source": [
    "def categorise(inp_string: str):\n",
    "    open_chars = []\n",
    "    for char in inp_string:\n",
    "        if char in ['[','(','{','<']:\n",
    "            open_chars.append(char)\n",
    "        else:\n",
    "            last_opening_char = open_chars.pop()\n",
    "        \n",
    "            if (last_opening_char == '[' and char != ']') or \\\n",
    "            (last_opening_char == '(' and char != ')') or\\\n",
    "            (last_opening_char == '<' and char != '>') or\\\n",
    "            (last_opening_char == '{' and char != '}'):\n",
    "                return char\n"
   ]
  },
  {
   "cell_type": "code",
   "execution_count": 20,
   "metadata": {},
   "outputs": [
    {
     "data": {
      "text/plain": [
       "')'"
      ]
     },
     "execution_count": 20,
     "metadata": {},
     "output_type": "execute_result"
    }
   ],
   "source": [
    "categorise('[<(<(<(<{}))><([]([]()') # Should return ')'"
   ]
  },
  {
   "cell_type": "code",
   "execution_count": 21,
   "metadata": {},
   "outputs": [
    {
     "data": {
      "text/plain": [
       "')'"
      ]
     },
     "execution_count": 21,
     "metadata": {},
     "output_type": "execute_result"
    }
   ],
   "source": [
    "categorise('[[<[([]))<([[{}[[()]]]')"
   ]
  },
  {
   "cell_type": "code",
   "execution_count": 22,
   "metadata": {},
   "outputs": [],
   "source": [
    "illegal_chars = []\n",
    "for line in inp.split('\\n'):\n",
    "    illegal_chars.append(categorise(line))\n",
    "\n",
    "point_dict = {')':3,']':57,'}':1197,'>':25137}\n",
    "point_sum = 0\n",
    "for i in illegal_chars:\n",
    "    if i != None:\n",
    "        point_sum += point_dict[i]"
   ]
  },
  {
   "cell_type": "code",
   "execution_count": 23,
   "metadata": {},
   "outputs": [
    {
     "data": {
      "text/plain": [
       "26397"
      ]
     },
     "execution_count": 23,
     "metadata": {},
     "output_type": "execute_result"
    }
   ],
   "source": [
    "point_sum"
   ]
  },
  {
   "cell_type": "code",
   "execution_count": 25,
   "metadata": {},
   "outputs": [],
   "source": [
    "def part1(inp_str):\n",
    "    illegal_chars = []\n",
    "    for line in inp_str.split('\\n'):\n",
    "        illegal_chars.append(categorise(line))\n",
    "\n",
    "    point_dict = {')':3,']':57,'}':1197,'>':25137}\n",
    "    point_sum = 0\n",
    "    for i in illegal_chars:\n",
    "        if i != None:\n",
    "            point_sum += point_dict[i]\n",
    "    return point_sum"
   ]
  },
  {
   "cell_type": "code",
   "execution_count": 26,
   "metadata": {},
   "outputs": [
    {
     "data": {
      "text/plain": [
       "311895"
      ]
     },
     "execution_count": 26,
     "metadata": {},
     "output_type": "execute_result"
    }
   ],
   "source": [
    "with open('day_10_inp.txt','r') as f:\n",
    "    inp = f.read()\n",
    "part1(inp)"
   ]
  },
  {
   "cell_type": "markdown",
   "metadata": {},
   "source": [
    "## Part 2\n"
   ]
  },
  {
   "cell_type": "code",
   "execution_count": 31,
   "metadata": {},
   "outputs": [
    {
     "data": {
      "text/plain": [
       "['[({(<(())[]>[[{[]{<()<>>',\n",
       " '[(()[<>])]({[<{<<[]>>(',\n",
       " '{([(<{}[<>[]}>{[]{[(<()>',\n",
       " '(((({<>}<{<{<>}{[]{[]{}',\n",
       " '[[<[([]))<([[{}[[()]]]',\n",
       " '[{[{({}]{}}([{[{{{}}([]',\n",
       " '{<[[]]>}<{[{[{[]{()[[[]',\n",
       " '[<(<(<(<{}))><([]([]()',\n",
       " '<{([([[(<>()){}]>(<<{{',\n",
       " '<{([{{}}[<[[[<>{}]]]>[]]']"
      ]
     },
     "execution_count": 31,
     "metadata": {},
     "output_type": "execute_result"
    }
   ],
   "source": [
    "inp = '''[({(<(())[]>[[{[]{<()<>>\n",
    "[(()[<>])]({[<{<<[]>>(\n",
    "{([(<{}[<>[]}>{[]{[(<()>\n",
    "(((({<>}<{<{<>}{[]{[]{}\n",
    "[[<[([]))<([[{}[[()]]]\n",
    "[{[{({}]{}}([{[{{{}}([]\n",
    "{<[[]]>}<{[{[{[]{()[[[]\n",
    "[<(<(<(<{}))><([]([]()\n",
    "<{([([[(<>()){}]>(<<{{\n",
    "<{([{{}}[<[[[<>{}]]]>[]]'''\n",
    "\n",
    "inp.split('\\n')"
   ]
  },
  {
   "cell_type": "code",
   "execution_count": 20,
   "metadata": {},
   "outputs": [],
   "source": [
    "def open_brackets_to_complete(inp_string: str):\n",
    "    open_chars = []\n",
    "    for char in inp_string:\n",
    "        if char in ['[','(','{','<']:\n",
    "            open_chars.append(char)\n",
    "        else:\n",
    "            last_opening_char = open_chars.pop()\n",
    "    return open_chars"
   ]
  },
  {
   "cell_type": "code",
   "execution_count": 21,
   "metadata": {},
   "outputs": [],
   "source": [
    "def complete(open_brackets: list):\n",
    "    mapping_dict = {'[':']','{':'}','<':'>','(':')'}\n",
    "    out_brackets = []\n",
    "    for i in range(len(open_brackets)):\n",
    "        last_bracket = open_brackets.pop()\n",
    "        out_brackets.append(mapping_dict[last_bracket])\n",
    "    return out_brackets\n",
    "\n",
    "def score(close_brackets: list):\n",
    "    mapping_dict = {']':2,'}':3,'>':4,')':1}\n",
    "    total_score = 0\n",
    "    for i in close_brackets:\n",
    "        total_score = total_score*5 + mapping_dict[i]\n",
    "    return total_score"
   ]
  },
  {
   "cell_type": "code",
   "execution_count": 35,
   "metadata": {},
   "outputs": [],
   "source": [
    "# Discard corrupt lines\n",
    "uncorrupt_lines = []\n",
    "for line in inp.split('\\n'):\n",
    "    if categorise(line) == None:\n",
    "        uncorrupt_lines.append(line)"
   ]
  },
  {
   "cell_type": "code",
   "execution_count": 36,
   "metadata": {},
   "outputs": [
    {
     "data": {
      "text/plain": [
       "['[({(<(())[]>[[{[]{<()<>>',\n",
       " '[(()[<>])]({[<{<<[]>>(',\n",
       " '(((({<>}<{<{<>}{[]{[]{}',\n",
       " '{<[[]]>}<{[{[{[]{()[[[]',\n",
       " '<{([{{}}[<[[[<>{}]]]>[]]']"
      ]
     },
     "execution_count": 36,
     "metadata": {},
     "output_type": "execute_result"
    }
   ],
   "source": [
    "uncorrupt_lines"
   ]
  },
  {
   "cell_type": "code",
   "execution_count": 37,
   "metadata": {},
   "outputs": [
    {
     "name": "stdout",
     "output_type": "stream",
     "text": [
      "['}', '}', ']', ']', ')', '}', ')', ']'] 288957\n",
      "[')', '}', '>', ']', '}', ')'] 5566\n",
      "['}', '}', '>', '}', '>', ')', ')', ')', ')'] 1480781\n",
      "[']', ']', '}', '}', ']', '}', ']', '}', '>'] 995444\n",
      "[']', ')', '}', '>'] 294\n"
     ]
    },
    {
     "data": {
      "text/plain": [
       "288957"
      ]
     },
     "execution_count": 37,
     "metadata": {},
     "output_type": "execute_result"
    }
   ],
   "source": [
    "import statistics as s\n",
    "\n",
    "scores = []\n",
    "for line in uncorrupt_lines:\n",
    "    out_brackets = complete(open_brackets_to_complete(line))\n",
    "    line_score = score(out_brackets)\n",
    "    print(out_brackets, line_score)\n",
    "    scores.append(line_score)\n",
    "    \n",
    "s.median(scores)"
   ]
  },
  {
   "cell_type": "code",
   "execution_count": 38,
   "metadata": {},
   "outputs": [
    {
     "data": {
      "text/plain": [
       "[288957, 5566, 1480781, 995444, 294]"
      ]
     },
     "execution_count": 38,
     "metadata": {},
     "output_type": "execute_result"
    }
   ],
   "source": [
    "scores"
   ]
  },
  {
   "cell_type": "markdown",
   "metadata": {},
   "source": [
    "## Actual input"
   ]
  },
  {
   "cell_type": "code",
   "execution_count": 42,
   "metadata": {},
   "outputs": [
    {
     "data": {
      "text/plain": [
       "2904180541"
      ]
     },
     "execution_count": 42,
     "metadata": {},
     "output_type": "execute_result"
    }
   ],
   "source": [
    "with open('day_10_inp.txt','r') as f:\n",
    "    inp = f.read()\n",
    "    \n",
    "uncorrupt_lines = []\n",
    "for line in inp.split('\\n'):\n",
    "    if categorise(line) == None:\n",
    "        uncorrupt_lines.append(line)\n",
    "        \n",
    "scores = []\n",
    "for line in uncorrupt_lines:\n",
    "    line_score = score(complete(open_brackets_to_complete(line)))\n",
    "    scores.append(line_score)\n",
    "    \n",
    "s.median(scores)"
   ]
  },
  {
   "cell_type": "code",
   "execution_count": 43,
   "metadata": {},
   "outputs": [
    {
     "data": {
      "text/plain": [
       "47"
      ]
     },
     "execution_count": 43,
     "metadata": {},
     "output_type": "execute_result"
    }
   ],
   "source": [
    "len(scores)"
   ]
  },
  {
   "cell_type": "code",
   "execution_count": 44,
   "metadata": {},
   "outputs": [
    {
     "data": {
      "text/plain": [
       "47"
      ]
     },
     "execution_count": 44,
     "metadata": {},
     "output_type": "execute_result"
    }
   ],
   "source": [
    "len(uncorrupt_lines)"
   ]
  },
  {
   "cell_type": "code",
   "execution_count": null,
   "metadata": {},
   "outputs": [],
   "source": []
  }
 ],
 "metadata": {
  "kernelspec": {
   "display_name": "Python 3",
   "language": "python",
   "name": "python3"
  },
  "language_info": {
   "codemirror_mode": {
    "name": "ipython",
    "version": 3
   },
   "file_extension": ".py",
   "mimetype": "text/x-python",
   "name": "python",
   "nbconvert_exporter": "python",
   "pygments_lexer": "ipython3",
   "version": "3.7.6"
  }
 },
 "nbformat": 4,
 "nbformat_minor": 4
}
