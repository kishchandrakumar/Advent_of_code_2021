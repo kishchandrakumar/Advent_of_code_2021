{
 "cells": [
  {
   "cell_type": "code",
   "execution_count": 1,
   "metadata": {},
   "outputs": [],
   "source": [
    "import numpy as np"
   ]
  },
  {
   "cell_type": "code",
   "execution_count": 2,
   "metadata": {},
   "outputs": [],
   "source": [
    "boards_string = '''22 13 17 11  0\n",
    " 8  2 23  4 24\n",
    "21  9 14 16  7\n",
    " 6 10  3 18  5\n",
    " 1 12 20 15 19\n",
    "\n",
    " 3 15  0  2 22\n",
    " 9 18 13 17  5\n",
    "19  8  7 25 23\n",
    "20 11 10 24  4\n",
    "14 21 16 12  6\n",
    "\n",
    "14 21 17 24  4\n",
    "10 16 15  9 19\n",
    "18  8 23 26 20\n",
    "22 11 13  6  5\n",
    " 2  0 12  3  7'''\n",
    "\n",
    "number_sequence_str = '''7,4,9,5,11,17,23,2,0,14,21,24,10,16,13,6,15,25,12,22,18,20,8,19,3,26,1'''"
   ]
  },
  {
   "cell_type": "markdown",
   "metadata": {},
   "source": [
    "Split this into steps\n",
    "Want to make each board into a numpy array of values\n",
    "\n",
    "1. split boards string into distinct boards and convert to numbers \n",
    "2. swap matching numbers with letters one at a time\n",
    "3. "
   ]
  },
  {
   "cell_type": "code",
   "execution_count": 3,
   "metadata": {},
   "outputs": [],
   "source": [
    "def parse_boards(inp_board: str) -> list:\n",
    "    '''\n",
    "    Splits a string of numbers into distinct boards as numpy arrays\n",
    "    '''\n",
    "    boards_split = inp_board.split('\\n\\n')\n",
    "    \n",
    "    # Splits rows into distinct strings and appends rows to 'boards' in a list\n",
    "    boards = []\n",
    "    for row in boards_split:\n",
    "        boards.append(row.split('\\n'))\n",
    "        \n",
    "    int_boards = []\n",
    "    for each_board in boards:\n",
    "        board = []\n",
    "        for each_row in each_board:\n",
    "            row = [int(i) for i in each_row.split()]\n",
    "            board.append(row)\n",
    "        int_boards.append(np.array(board).reshape(5,5))\n",
    "    \n",
    "    return int_boards\n",
    "    \n",
    "    \n",
    "def value_replace(boards: list, value: int)-> list:\n",
    "    iterated_boards = []\n",
    "    for each_arr in boards:\n",
    "        replaced_board = np.where(each_arr == value, -1 ,each_arr)\n",
    "        iterated_boards.append(replaced_board)\n",
    "        \n",
    "    return iterated_boards\n",
    "\n",
    "\n",
    "def win_check(board):\n",
    "    \n",
    "    row_sum = np.sum(board, axis = 1) # summing across rows\n",
    "    col_sum = np.sum(board, axis = 0) # summing across cols\n",
    "    \n",
    "    if -5 in row_sum:\n",
    "        return True\n",
    "    if -5 in col_sum:\n",
    "        return True\n",
    "    return False"
   ]
  },
  {
   "cell_type": "code",
   "execution_count": null,
   "metadata": {},
   "outputs": [],
   "source": []
  },
  {
   "cell_type": "code",
   "execution_count": 4,
   "metadata": {},
   "outputs": [
    {
     "name": "stdout",
     "output_type": "stream",
     "text": [
      "[array([[22, 13, 17, 11,  0],\n",
      "       [ 8,  2, 23,  4, 24],\n",
      "       [21,  9, 14, 16,  7],\n",
      "       [ 6, 10,  3, 18,  5],\n",
      "       [ 1, 12, 20, 15, 19]]), array([[ 3, 15,  0,  2, 22],\n",
      "       [ 9, 18, 13, 17,  5],\n",
      "       [19,  8,  7, 25, 23],\n",
      "       [20, 11, 10, 24,  4],\n",
      "       [14, 21, 16, 12,  6]]), array([[14, 21, 17, 24,  4],\n",
      "       [10, 16, 15,  9, 19],\n",
      "       [18,  8, 23, 26, 20],\n",
      "       [22, 11, 13,  6,  5],\n",
      "       [ 2,  0, 12,  3,  7]])]\n",
      "4512\n"
     ]
    }
   ],
   "source": [
    "# Part 1 solution\n",
    "boards = parse_boards(boards_string)\n",
    "print(boards)\n",
    "\n",
    "for i in [int(x) for x in number_sequence_str.split(',')]:\n",
    "    boards = value_replace(boards, i)\n",
    "    for board in boards:\n",
    "        if win_check(board):\n",
    "            board = np.where(board == -1, 0 ,board)\n",
    "            _sum = np.sum(board)\n",
    "            print(_sum*i)\n",
    "            break\n",
    "    else:\n",
    "        continue #jumps to top if for-loop not broken out of\n",
    "        \n",
    "    break\n",
    "        "
   ]
  },
  {
   "cell_type": "markdown",
   "metadata": {},
   "source": [
    "# Part 2"
   ]
  },
  {
   "cell_type": "code",
   "execution_count": 5,
   "metadata": {},
   "outputs": [
    {
     "name": "stdout",
     "output_type": "stream",
     "text": [
      "last board to win\n",
      " [[ 3 15  0  0 22]\n",
      " [ 0 18  0  0  0]\n",
      " [19  8  0 25  0]\n",
      " [20  0  0  0  0]\n",
      " [ 0  0  0 12  6]]\n",
      "\n",
      "answer =  1924\n"
     ]
    }
   ],
   "source": [
    "#Part 2: want to do the same but for the last to win\n",
    "\n",
    "boards = parse_boards(boards_string)\n",
    "\n",
    "won_boards = [] #Keep track of won boards\n",
    "for i in [int(x) for x in number_sequence_str.split(',')]:\n",
    "    boards = value_replace(boards, i)\n",
    "    for n, board in enumerate(boards):\n",
    "        if n in won_boards:\n",
    "            continue\n",
    "        elif win_check(board):\n",
    "            won_boards.append(n)\n",
    "    if len(won_boards) == 3:\n",
    "        break\n",
    "\n",
    "\n",
    "\n",
    "last_board = boards[won_boards.pop()]\n",
    "last_board = np.where(last_board == -1, 0 ,last_board)\n",
    "\n",
    "print('last board to win\\n', last_board)\n",
    "\n",
    "print('\\nanswer = ',i*np.sum(last_board))"
   ]
  },
  {
   "cell_type": "code",
   "execution_count": null,
   "metadata": {},
   "outputs": [],
   "source": []
  }
 ],
 "metadata": {
  "kernelspec": {
   "display_name": "Python 3",
   "language": "python",
   "name": "python3"
  },
  "language_info": {
   "codemirror_mode": {
    "name": "ipython",
    "version": 3
   },
   "file_extension": ".py",
   "mimetype": "text/x-python",
   "name": "python",
   "nbconvert_exporter": "python",
   "pygments_lexer": "ipython3",
   "version": "3.7.6"
  }
 },
 "nbformat": 4,
 "nbformat_minor": 4
}
